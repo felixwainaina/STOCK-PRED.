{
 "cells": [
  {
   "cell_type": "code",
   "execution_count": 1,
   "metadata": {
    "pycharm": {
     "name": "#%%\n"
    }
   },
   "outputs": [],
   "source": [
    "# STOCK PREDICTOR"
   ]
  },
  {
   "cell_type": "code",
   "execution_count": 2,
   "metadata": {
    "pycharm": {
     "name": "#%%\n"
    }
   },
   "outputs": [],
   "source": [
    "# !pip install -q hvplot\n",
    "# !pip install --upgrade pandas\n",
    "# !pip install --upgrade pandas-datareader\n",
    "# !pip install -q yfinance"
   ]
  },
  {
   "cell_type": "code",
   "execution_count": 3,
   "metadata": {
    "pycharm": {
     "name": "#%%\n"
    }
   },
   "outputs": [],
   "source": [
    "# Import packages\n",
    "import yfinance as yf\n",
    "import pandas as pd\n",
    "import numpy as np\n",
    "from keras.losses import mean_absolute_error\n",
    "%matplotlib inline\n",
    "import matplotlib. pyplot as plt\n",
    "import matplotlib\n",
    "from sklearn.preprocessing import MinMaxScaler\n",
    "from keras.layers import LSTM, Dense, Dropout\n",
    "from sklearn.model_selection import TimeSeriesSplit\n",
    "from sklearn.metrics import mean_squared_error, r2_score\n",
    "import matplotlib.dates as mandates\n",
    "from sklearn.preprocessing import MinMaxScaler\n",
    "from sklearn import linear_model\n",
    "from keras.models import Sequential\n",
    "from keras.layers import Dense\n",
    "import keras.backend as K\n",
    "from keras.callbacks import EarlyStopping\n",
    "from keras.optimizers import Adam\n",
    "from keras.models import load_model\n",
    "from keras.layers import LSTM\n",
    "from keras.utils.vis_utils import plot_model"
   ]
  },
  {
   "cell_type": "code",
   "execution_count": 4,
   "metadata": {
    "pycharm": {
     "name": "#%%\n"
    }
   },
   "outputs": [
    {
     "name": "stdout",
     "output_type": "stream",
     "text": [
      "[*********************100%***********************]  1 of 1 completed\n",
      "[*********************100%***********************]  1 of 1 completed\n",
      "[*********************100%***********************]  1 of 1 completed\n",
      "[*********************100%***********************]  1 of 1 completed\n",
      "[*********************100%***********************]  1 of 1 completed\n",
      "[*********************100%***********************]  1 of 1 completed\n"
     ]
    },
    {
     "data": {
      "text/html": [
       "<div>\n",
       "<style scoped>\n",
       "    .dataframe tbody tr th:only-of-type {\n",
       "        vertical-align: middle;\n",
       "    }\n",
       "\n",
       "    .dataframe tbody tr th {\n",
       "        vertical-align: top;\n",
       "    }\n",
       "\n",
       "    .dataframe thead th {\n",
       "        text-align: right;\n",
       "    }\n",
       "</style>\n",
       "<table border=\"1\" class=\"dataframe\">\n",
       "  <thead>\n",
       "    <tr style=\"text-align: right;\">\n",
       "      <th></th>\n",
       "      <th>AAPL</th>\n",
       "      <th>MSFT</th>\n",
       "      <th>GOOG</th>\n",
       "      <th>TSLA</th>\n",
       "      <th>SONY</th>\n",
       "      <th>KO</th>\n",
       "    </tr>\n",
       "    <tr>\n",
       "      <th>Date</th>\n",
       "      <th></th>\n",
       "      <th></th>\n",
       "      <th></th>\n",
       "      <th></th>\n",
       "      <th></th>\n",
       "      <th></th>\n",
       "    </tr>\n",
       "  </thead>\n",
       "  <tbody>\n",
       "    <tr>\n",
       "      <th>2017-05-25</th>\n",
       "      <td>36.415878</td>\n",
       "      <td>65.209839</td>\n",
       "      <td>969.539978</td>\n",
       "      <td>63.366001</td>\n",
       "      <td>36.169998</td>\n",
       "      <td>38.349331</td>\n",
       "    </tr>\n",
       "    <tr>\n",
       "      <th>2017-05-26</th>\n",
       "      <td>36.354343</td>\n",
       "      <td>65.528305</td>\n",
       "      <td>971.469971</td>\n",
       "      <td>65.028000</td>\n",
       "      <td>36.680000</td>\n",
       "      <td>38.332443</td>\n",
       "    </tr>\n",
       "    <tr>\n",
       "      <th>2017-05-30</th>\n",
       "      <td>36.368546</td>\n",
       "      <td>65.949791</td>\n",
       "      <td>975.880005</td>\n",
       "      <td>67.019997</td>\n",
       "      <td>36.480000</td>\n",
       "      <td>38.366230</td>\n",
       "    </tr>\n",
       "    <tr>\n",
       "      <th>2017-05-31</th>\n",
       "      <td>36.153175</td>\n",
       "      <td>65.415916</td>\n",
       "      <td>964.859985</td>\n",
       "      <td>68.202003</td>\n",
       "      <td>36.619999</td>\n",
       "      <td>38.400002</td>\n",
       "    </tr>\n",
       "    <tr>\n",
       "      <th>2017-06-01</th>\n",
       "      <td>36.252571</td>\n",
       "      <td>65.659424</td>\n",
       "      <td>966.950012</td>\n",
       "      <td>68.073997</td>\n",
       "      <td>36.509998</td>\n",
       "      <td>38.670242</td>\n",
       "    </tr>\n",
       "  </tbody>\n",
       "</table>\n",
       "</div>"
      ],
      "text/plain": [
       "                 AAPL       MSFT        GOOG       TSLA       SONY         KO\n",
       "Date                                                                         \n",
       "2017-05-25  36.415878  65.209839  969.539978  63.366001  36.169998  38.349331\n",
       "2017-05-26  36.354343  65.528305  971.469971  65.028000  36.680000  38.332443\n",
       "2017-05-30  36.368546  65.949791  975.880005  67.019997  36.480000  38.366230\n",
       "2017-05-31  36.153175  65.415916  964.859985  68.202003  36.619999  38.400002\n",
       "2017-06-01  36.252571  65.659424  966.950012  68.073997  36.509998  38.670242"
      ]
     },
     "execution_count": 4,
     "metadata": {},
     "output_type": "execute_result"
    }
   ],
   "source": [
    "# Set the start and end date\n",
    "start_date = '2017-05-26'\n",
    "\n",
    "# Define the ticker list\n",
    "tickers_list = ['AAPL', 'MSFT', 'GOOG', 'TSLA', 'SONY','KO']\n",
    "\n",
    "# Create placeholder for data\n",
    "data = pd.DataFrame(columns=tickers_list)\n",
    "\n",
    "# Fetch the data\n",
    "for ticker in tickers_list:\n",
    "    data[ticker] = yf.download(ticker,\n",
    "                               start_date)['Adj Close']\n",
    "\n",
    "# Print first 5 rows of the data\n",
    "data.head()"
   ]
  },
  {
   "cell_type": "code",
   "execution_count": 5,
   "metadata": {
    "pycharm": {
     "name": "#%%\n"
    }
   },
   "outputs": [
    {
     "name": "stdout",
     "output_type": "stream",
     "text": [
      "<class 'pandas.core.frame.DataFrame'>\n",
      "DatetimeIndex: 1276 entries, 2017-05-25 to 2022-06-17\n",
      "Data columns (total 6 columns):\n",
      " #   Column  Non-Null Count  Dtype  \n",
      "---  ------  --------------  -----  \n",
      " 0   AAPL    1276 non-null   float64\n",
      " 1   MSFT    1276 non-null   float64\n",
      " 2   GOOG    1276 non-null   float64\n",
      " 3   TSLA    1276 non-null   float64\n",
      " 4   SONY    1276 non-null   float64\n",
      " 5   KO      1276 non-null   float64\n",
      "dtypes: float64(6)\n",
      "memory usage: 69.8 KB\n"
     ]
    }
   ],
   "source": [
    "data.info()"
   ]
  },
  {
   "cell_type": "code",
   "execution_count": 6,
   "metadata": {
    "pycharm": {
     "name": "#%%\n"
    }
   },
   "outputs": [
    {
     "name": "stdout",
     "output_type": "stream",
     "text": [
      "Dataframe Shape: (1276, 6)\n",
      "Null Value Present:  False\n"
     ]
    }
   ],
   "source": [
    "#Print the shape of Dataframe  and Check for Null Values\n",
    "print(\"Dataframe Shape:\", data.shape)\n",
    "print(\"Null Value Present: \", data.isnull().values.any())"
   ]
  },
  {
   "cell_type": "code",
   "execution_count": 7,
   "metadata": {
    "pycharm": {
     "name": "#%%\n"
    }
   },
   "outputs": [
    {
     "data": {
      "text/html": [
       "<div>\n",
       "<style scoped>\n",
       "    .dataframe tbody tr th:only-of-type {\n",
       "        vertical-align: middle;\n",
       "    }\n",
       "\n",
       "    .dataframe tbody tr th {\n",
       "        vertical-align: top;\n",
       "    }\n",
       "\n",
       "    .dataframe thead th {\n",
       "        text-align: right;\n",
       "    }\n",
       "</style>\n",
       "<table border=\"1\" class=\"dataframe\">\n",
       "  <thead>\n",
       "    <tr style=\"text-align: right;\">\n",
       "      <th></th>\n",
       "      <th>AAPL</th>\n",
       "      <th>MSFT</th>\n",
       "      <th>GOOG</th>\n",
       "      <th>TSLA</th>\n",
       "      <th>SONY</th>\n",
       "      <th>KO</th>\n",
       "    </tr>\n",
       "  </thead>\n",
       "  <tbody>\n",
       "    <tr>\n",
       "      <th>count</th>\n",
       "      <td>1276.000000</td>\n",
       "      <td>1276.000000</td>\n",
       "      <td>1276.000000</td>\n",
       "      <td>1276.000000</td>\n",
       "      <td>1276.000000</td>\n",
       "      <td>1276.000000</td>\n",
       "    </tr>\n",
       "    <tr>\n",
       "      <th>mean</th>\n",
       "      <td>84.497260</td>\n",
       "      <td>170.312098</td>\n",
       "      <td>1591.707731</td>\n",
       "      <td>323.696998</td>\n",
       "      <td>70.548668</td>\n",
       "      <td>46.846361</td>\n",
       "    </tr>\n",
       "    <tr>\n",
       "      <th>std</th>\n",
       "      <td>46.054674</td>\n",
       "      <td>80.711302</td>\n",
       "      <td>646.152021</td>\n",
       "      <td>343.864412</td>\n",
       "      <td>25.552486</td>\n",
       "      <td>7.150071</td>\n",
       "    </tr>\n",
       "    <tr>\n",
       "      <th>min</th>\n",
       "      <td>33.670551</td>\n",
       "      <td>63.851711</td>\n",
       "      <td>898.700012</td>\n",
       "      <td>35.793999</td>\n",
       "      <td>36.169998</td>\n",
       "      <td>34.993389</td>\n",
       "    </tr>\n",
       "    <tr>\n",
       "      <th>25%</th>\n",
       "      <td>43.939504</td>\n",
       "      <td>100.867954</td>\n",
       "      <td>1102.427460</td>\n",
       "      <td>62.485500</td>\n",
       "      <td>49.349998</td>\n",
       "      <td>40.564339</td>\n",
       "    </tr>\n",
       "    <tr>\n",
       "      <th>50%</th>\n",
       "      <td>64.104204</td>\n",
       "      <td>146.162819</td>\n",
       "      <td>1264.840027</td>\n",
       "      <td>75.513000</td>\n",
       "      <td>60.850000</td>\n",
       "      <td>46.300873</td>\n",
       "    </tr>\n",
       "    <tr>\n",
       "      <th>75%</th>\n",
       "      <td>127.110647</td>\n",
       "      <td>236.542675</td>\n",
       "      <td>2092.617493</td>\n",
       "      <td>654.974991</td>\n",
       "      <td>96.062502</td>\n",
       "      <td>51.872207</td>\n",
       "    </tr>\n",
       "    <tr>\n",
       "      <th>max</th>\n",
       "      <td>181.511703</td>\n",
       "      <td>341.606384</td>\n",
       "      <td>3014.179932</td>\n",
       "      <td>1229.910034</td>\n",
       "      <td>128.589996</td>\n",
       "      <td>65.735069</td>\n",
       "    </tr>\n",
       "  </tbody>\n",
       "</table>\n",
       "</div>"
      ],
      "text/plain": [
       "              AAPL         MSFT         GOOG         TSLA         SONY  \\\n",
       "count  1276.000000  1276.000000  1276.000000  1276.000000  1276.000000   \n",
       "mean     84.497260   170.312098  1591.707731   323.696998    70.548668   \n",
       "std      46.054674    80.711302   646.152021   343.864412    25.552486   \n",
       "min      33.670551    63.851711   898.700012    35.793999    36.169998   \n",
       "25%      43.939504   100.867954  1102.427460    62.485500    49.349998   \n",
       "50%      64.104204   146.162819  1264.840027    75.513000    60.850000   \n",
       "75%     127.110647   236.542675  2092.617493   654.974991    96.062502   \n",
       "max     181.511703   341.606384  3014.179932  1229.910034   128.589996   \n",
       "\n",
       "                KO  \n",
       "count  1276.000000  \n",
       "mean     46.846361  \n",
       "std       7.150071  \n",
       "min      34.993389  \n",
       "25%      40.564339  \n",
       "50%      46.300873  \n",
       "75%      51.872207  \n",
       "max      65.735069  "
      ]
     },
     "execution_count": 7,
     "metadata": {},
     "output_type": "execute_result"
    }
   ],
   "source": [
    "data.describe()"
   ]
  },
  {
   "cell_type": "code",
   "execution_count": 8,
   "metadata": {
    "pycharm": {
     "name": "#%%\n"
    }
   },
   "outputs": [
    {
     "data": {
      "image/png": "[encoded data removed]",
      "text/plain": [
       "<Figure size 720x504 with 1 Axes>"
      ]
     },
     "metadata": {
      "needs_background": "light"
     },
     "output_type": "display_data"
    }
   ],
   "source": [
    "from matplotlib import pyplot as plt\n",
    "\n",
    "# Plot all the close prices\n",
    "data.plot(figsize=(10, 7))\n",
    "\n",
    "# Show the legend\n",
    "plt.legend()\n",
    "\n",
    "# Define the label for the title of the figure\n",
    "plt.title(\"Adjusted Close Price\", fontsize=16)\n",
    "\n",
    "# Define the labels for x-axis and y-axis\n",
    "plt.ylabel('Price', fontsize=14)\n",
    "plt.xlabel('Year', fontsize=14)\n",
    "\n",
    "# Plot the grid lines\n",
    "plt.grid(which=\"major\", color='k', linestyle='-.', linewidth=0.5)\n",
    "plt.show()"
   ]
  },
  {
   "cell_type": "code",
   "execution_count": 9,
   "metadata": {
    "pycharm": {
     "name": "#%%\n"
    }
   },
   "outputs": [
    {
     "data": {
      "text/html": [
       "<div>\n",
       "<style scoped>\n",
       "    .dataframe tbody tr th:only-of-type {\n",
       "        vertical-align: middle;\n",
       "    }\n",
       "\n",
       "    .dataframe tbody tr th {\n",
       "        vertical-align: top;\n",
       "    }\n",
       "\n",
       "    .dataframe thead th {\n",
       "        text-align: right;\n",
       "    }\n",
       "</style>\n",
       "<table border=\"1\" class=\"dataframe\">\n",
       "  <thead>\n",
       "    <tr style=\"text-align: right;\">\n",
       "      <th></th>\n",
       "      <th>AAPL</th>\n",
       "      <th>MSFT</th>\n",
       "      <th>GOOG</th>\n",
       "      <th>TSLA</th>\n",
       "      <th>SONY</th>\n",
       "      <th>KO</th>\n",
       "    </tr>\n",
       "  </thead>\n",
       "  <tbody>\n",
       "    <tr>\n",
       "      <th>AAPL</th>\n",
       "      <td>1.000000</td>\n",
       "      <td>0.979105</td>\n",
       "      <td>0.953425</td>\n",
       "      <td>0.963388</td>\n",
       "      <td>0.957874</td>\n",
       "      <td>0.848454</td>\n",
       "    </tr>\n",
       "    <tr>\n",
       "      <th>MSFT</th>\n",
       "      <td>0.979105</td>\n",
       "      <td>1.000000</td>\n",
       "      <td>0.963422</td>\n",
       "      <td>0.936257</td>\n",
       "      <td>0.962527</td>\n",
       "      <td>0.860191</td>\n",
       "    </tr>\n",
       "    <tr>\n",
       "      <th>GOOG</th>\n",
       "      <td>0.953425</td>\n",
       "      <td>0.963422</td>\n",
       "      <td>1.000000</td>\n",
       "      <td>0.947480</td>\n",
       "      <td>0.943793</td>\n",
       "      <td>0.833825</td>\n",
       "    </tr>\n",
       "    <tr>\n",
       "      <th>TSLA</th>\n",
       "      <td>0.963388</td>\n",
       "      <td>0.936257</td>\n",
       "      <td>0.947480</td>\n",
       "      <td>1.000000</td>\n",
       "      <td>0.941670</td>\n",
       "      <td>0.788851</td>\n",
       "    </tr>\n",
       "    <tr>\n",
       "      <th>SONY</th>\n",
       "      <td>0.957874</td>\n",
       "      <td>0.962527</td>\n",
       "      <td>0.943793</td>\n",
       "      <td>0.941670</td>\n",
       "      <td>1.000000</td>\n",
       "      <td>0.790592</td>\n",
       "    </tr>\n",
       "    <tr>\n",
       "      <th>KO</th>\n",
       "      <td>0.848454</td>\n",
       "      <td>0.860191</td>\n",
       "      <td>0.833825</td>\n",
       "      <td>0.788851</td>\n",
       "      <td>0.790592</td>\n",
       "      <td>1.000000</td>\n",
       "    </tr>\n",
       "  </tbody>\n",
       "</table>\n",
       "</div>"
      ],
      "text/plain": [
       "          AAPL      MSFT      GOOG      TSLA      SONY        KO\n",
       "AAPL  1.000000  0.979105  0.953425  0.963388  0.957874  0.848454\n",
       "MSFT  0.979105  1.000000  0.963422  0.936257  0.962527  0.860191\n",
       "GOOG  0.953425  0.963422  1.000000  0.947480  0.943793  0.833825\n",
       "TSLA  0.963388  0.936257  0.947480  1.000000  0.941670  0.788851\n",
       "SONY  0.957874  0.962527  0.943793  0.941670  1.000000  0.790592\n",
       "KO    0.848454  0.860191  0.833825  0.788851  0.790592  1.000000"
      ]
     },
     "execution_count": 9,
     "metadata": {},
     "output_type": "execute_result"
    }
   ],
   "source": [
    "data.corr()"
   ]
  },
  {
   "cell_type": "code",
   "execution_count": 10,
   "metadata": {
    "pycharm": {
     "name": "#%%\n"
    }
   },
   "outputs": [
    {
     "name": "stdout",
     "output_type": "stream",
     "text": [
      "(1020, 6) (256, 6)\n"
     ]
    }
   ],
   "source": [
    "split_ratio = 0.2\n",
    "X = data.values # Convert to NumPy array\n",
    "split = int(len(X) * (1-split_ratio))\n",
    "train_set = X[: split]\n",
    "test_set = X[split:]\n",
    "print(train_set.shape, test_set.shape)"
   ]
  },
  {
   "cell_type": "code",
   "execution_count": 11,
   "metadata": {
    "pycharm": {
     "name": "#%%\n"
    }
   },
   "outputs": [
    {
     "name": "stdout",
     "output_type": "stream",
     "text": [
      "trainX:  (1016, 4, 6)\n",
      "trainY:  (1016, 6)\n",
      "testX:  (252, 4, 6)\n",
      "testY:  (252, 6)\n"
     ]
    }
   ],
   "source": [
    "def supvervisedSeries(data, n, h):\n",
    "  x, y = list (), list ()\n",
    "  for i in range (len(data)-n-h+1):\n",
    "    x.append(data[i:(i+n)])\n",
    "    y.append(data[i+h+n-1])\n",
    "  return np.array(x), np.array(y)\n",
    "h = 1\n",
    "n = 4\n",
    "trainX, trainY = supvervisedSeries(train_set, n, h)\n",
    "testX, testY = supvervisedSeries(test_set, n, h)\n",
    "print(\"trainX: \", trainX.shape)\n",
    "print(\"trainY: \", trainY.shape)\n",
    "print(\"testX: \", testX.shape)\n",
    "print(\"testY: \", testY.shape)"
   ]
  },
  {
   "cell_type": "code",
   "execution_count": 12,
   "metadata": {
    "pycharm": {
     "name": "#%%\n"
    }
   },
   "outputs": [
    {
     "name": "stdout",
     "output_type": "stream",
     "text": [
      "trainY:  (1016, 1)\n",
      "testY: (252, 1)\n"
     ]
    }
   ],
   "source": [
    "testY = np.reshape(testY[:, 0], (testY [:, 0].shape[0], 1))\n",
    "trainY = np.reshape(trainY[:, 0], (trainY[:, 0].shape[0], 1))\n",
    "print('trainY: ', trainY.shape)\n",
    "print('testY:', testY.shape)"
   ]
  },
  {
   "cell_type": "code",
   "execution_count": 13,
   "metadata": {
    "pycharm": {
     "name": "#%%\n"
    }
   },
   "outputs": [],
   "source": [
    "# Data Scaling\n",
    "scalers = {}\n",
    "for i in range (trainX.shape[2]):\n",
    "  scalers[i] = MinMaxScaler()\n",
    "  trainX[:, :, i] = scalers[i].fit_transform(trainX[:, :, i])\n",
    "for i in range(testX.shape[2]):\n",
    "  testX[:, :, i] = scalers[i].transform(testX[:, :, i])\n",
    "# The target values are 2D arrays, which is easy to scale\n",
    "scalerY = MinMaxScaler()\n",
    "trainY = scalerY.fit_transform(trainY)\n",
    "testY = scalerY.transform(testY)"
   ]
  },
  {
   "cell_type": "code",
   "execution_count": 14,
   "metadata": {
    "pycharm": {
     "name": "#%%\n"
    }
   },
   "outputs": [
    {
     "name": "stdout",
     "output_type": "stream",
     "text": [
      "Model: \"sequential\"\n",
      "_________________________________________________________________\n",
      " Layer (type)                Output Shape              Param #   \n",
      "=================================================================\n",
      " dense (Dense)               (None, 100)               2500      \n",
      "                                                                 \n",
      " dropout (Dropout)           (None, 100)               0         \n",
      "                                                                 \n",
      " dense_1 (Dense)             (None, 100)               10100     \n",
      "                                                                 \n",
      " dropout_1 (Dropout)         (None, 100)               0         \n",
      "                                                                 \n",
      " dense_2 (Dense)             (None, 100)               10100     \n",
      "                                                                 \n",
      " dense_3 (Dense)             (None, 1)                 101       \n",
      "                                                                 \n",
      "=================================================================\n",
      "Total params: 22,801\n",
      "Trainable params: 22,801\n",
      "Non-trainable params: 0\n",
      "_________________________________________________________________\n",
      "Epoch 1/60\n",
      "32/32 [==============================] - 1s 3ms/step - loss: 0.0307\n",
      "Epoch 2/60\n",
      "32/32 [==============================] - 0s 3ms/step - loss: 0.0061\n",
      "Epoch 3/60\n",
      "32/32 [==============================] - 0s 3ms/step - loss: 0.0047\n",
      "Epoch 4/60\n",
      "32/32 [==============================] - 0s 5ms/step - loss: 0.0041\n",
      "Epoch 5/60\n",
      "32/32 [==============================] - 0s 2ms/step - loss: 0.0038\n",
      "Epoch 6/60\n",
      "32/32 [==============================] - 0s 3ms/step - loss: 0.0033\n",
      "Epoch 7/60\n",
      "32/32 [==============================] - 0s 3ms/step - loss: 0.0029\n",
      "Epoch 8/60\n",
      "32/32 [==============================] - 0s 3ms/step - loss: 0.0027\n",
      "Epoch 9/60\n",
      "32/32 [==============================] - 0s 3ms/step - loss: 0.0024\n",
      "Epoch 10/60\n",
      "32/32 [==============================] - 0s 2ms/step - loss: 0.0026\n",
      "Epoch 11/60\n",
      "32/32 [==============================] - 0s 3ms/step - loss: 0.0023\n",
      "Epoch 12/60\n",
      "32/32 [==============================] - 0s 3ms/step - loss: 0.0023\n",
      "Epoch 13/60\n",
      "32/32 [==============================] - 0s 4ms/step - loss: 0.0023\n",
      "Epoch 14/60\n",
      "32/32 [==============================] - 0s 4ms/step - loss: 0.0022\n",
      "Epoch 15/60\n",
      "32/32 [==============================] - 0s 3ms/step - loss: 0.0022\n",
      "Epoch 16/60\n",
      "32/32 [==============================] - 0s 3ms/step - loss: 0.0019\n",
      "Epoch 17/60\n",
      "32/32 [==============================] - 0s 3ms/step - loss: 0.0018\n",
      "Epoch 18/60\n",
      "32/32 [==============================] - 0s 4ms/step - loss: 0.0020\n",
      "Epoch 19/60\n",
      "32/32 [==============================] - 0s 4ms/step - loss: 0.0020\n",
      "Epoch 20/60\n",
      "32/32 [==============================] - 0s 4ms/step - loss: 0.0019\n",
      "Epoch 21/60\n",
      "32/32 [==============================] - 0s 3ms/step - loss: 0.0016\n",
      "Epoch 22/60\n",
      "32/32 [==============================] - 0s 3ms/step - loss: 0.0016\n",
      "Epoch 23/60\n",
      "32/32 [==============================] - 0s 8ms/step - loss: 0.0016\n",
      "Epoch 24/60\n",
      "32/32 [==============================] - 0s 3ms/step - loss: 0.0015\n",
      "Epoch 25/60\n",
      "32/32 [==============================] - 0s 3ms/step - loss: 0.0017\n",
      "Epoch 26/60\n",
      "32/32 [==============================] - 0s 3ms/step - loss: 0.0019\n",
      "Epoch 27/60\n",
      "32/32 [==============================] - 0s 3ms/step - loss: 0.0017\n",
      "Epoch 28/60\n",
      "32/32 [==============================] - 0s 3ms/step - loss: 0.0020\n",
      "Epoch 29/60\n",
      "32/32 [==============================] - 0s 3ms/step - loss: 0.0013\n",
      "Epoch 30/60\n",
      "32/32 [==============================] - 0s 3ms/step - loss: 0.0016\n",
      "Epoch 31/60\n",
      "32/32 [==============================] - 0s 2ms/step - loss: 0.0013\n",
      "Epoch 32/60\n",
      "32/32 [==============================] - 0s 3ms/step - loss: 0.0013\n",
      "Epoch 33/60\n",
      "32/32 [==============================] - 0s 3ms/step - loss: 0.0013\n",
      "Epoch 34/60\n",
      "32/32 [==============================] - 0s 2ms/step - loss: 0.0016\n",
      "Epoch 35/60\n",
      "32/32 [==============================] - 0s 3ms/step - loss: 0.0013\n",
      "Epoch 36/60\n",
      "32/32 [==============================] - 0s 2ms/step - loss: 0.0013\n",
      "Epoch 37/60\n",
      "32/32 [==============================] - 0s 3ms/step - loss: 0.0012\n",
      "Epoch 38/60\n",
      "32/32 [==============================] - 0s 3ms/step - loss: 0.0012\n",
      "Epoch 39/60\n",
      "32/32 [==============================] - 0s 2ms/step - loss: 0.0012\n",
      "Epoch 40/60\n",
      "32/32 [==============================] - 0s 3ms/step - loss: 0.0012\n",
      "Epoch 41/60\n",
      "32/32 [==============================] - 0s 3ms/step - loss: 0.0012\n",
      "Epoch 42/60\n",
      "32/32 [==============================] - 0s 3ms/step - loss: 0.0012\n",
      "Epoch 43/60\n",
      "32/32 [==============================] - 0s 3ms/step - loss: 0.0011\n",
      "Epoch 44/60\n",
      "32/32 [==============================] - 0s 3ms/step - loss: 0.0012\n",
      "Epoch 45/60\n",
      "32/32 [==============================] - 0s 3ms/step - loss: 0.0013\n",
      "Epoch 46/60\n",
      "32/32 [==============================] - 0s 3ms/step - loss: 0.0013\n",
      "Epoch 47/60\n",
      "32/32 [==============================] - 0s 3ms/step - loss: 0.0012\n",
      "Epoch 48/60\n",
      "32/32 [==============================] - 0s 3ms/step - loss: 9.9623e-04\n",
      "Epoch 49/60\n",
      "32/32 [==============================] - 0s 3ms/step - loss: 9.8211e-04\n",
      "Epoch 50/60\n",
      "32/32 [==============================] - 0s 3ms/step - loss: 9.3449e-04\n",
      "Epoch 51/60\n",
      "32/32 [==============================] - 0s 3ms/step - loss: 0.0010\n",
      "Epoch 52/60\n",
      "32/32 [==============================] - 0s 3ms/step - loss: 8.8399e-04\n",
      "Epoch 53/60\n",
      "32/32 [==============================] - 0s 4ms/step - loss: 9.6767e-04\n",
      "Epoch 54/60\n",
      "32/32 [==============================] - 0s 3ms/step - loss: 0.0011\n",
      "Epoch 55/60\n",
      "32/32 [==============================] - 0s 3ms/step - loss: 0.0012\n",
      "Epoch 56/60\n",
      "32/32 [==============================] - 0s 3ms/step - loss: 9.8239e-04\n",
      "Epoch 57/60\n",
      "32/32 [==============================] - 0s 3ms/step - loss: 8.7297e-04\n",
      "Epoch 58/60\n",
      "32/32 [==============================] - 0s 3ms/step - loss: 8.2444e-04\n",
      "Epoch 59/60\n",
      "32/32 [==============================] - 0s 3ms/step - loss: 9.3101e-04\n",
      "Epoch 60/60\n",
      "32/32 [==============================] - 0s 3ms/step - loss: 0.0010\n",
      "8/8 [==============================] - 0s 2ms/step\n"
     ]
    }
   ],
   "source": [
    "# Feed Forward Neural Network\n",
    "# 100 neurons in each layer\n",
    "# Flatten input (to support multivariate input)\n",
    "n_input = trainX.shape[1] * trainX.shape[2]\n",
    "trainX = trainX.reshape((trainX.shape[0], n_input))\n",
    "n_input = testX.shape[1] * testX.shape[2]\n",
    "testX = testX.reshape((testX.shape[0], n_input))\n",
    "# Create multilayered FFNN model\n",
    "model = Sequential()\n",
    "model.add(Dense(100, activation='relu', input_dim=trainX.shape[1]))\n",
    "model.add(Dropout(0.2))\n",
    "model.add(Dense(100, activation='relu'))\n",
    "model.add(Dropout(0.2))\n",
    "model.add(Dense(100, activation='relu'))\n",
    "model.add(Dense(trainY.shape[1]))\n",
    "model.compile(loss='mean_squared_error', optimizer='adam')\n",
    "model.summary()\n",
    "# Fit model\n",
    "history = model.fit(trainX, trainY, epochs =60, verbose =1)\n",
    "# Predict the test set\n",
    "predictions = model.predict(testX)"
   ]
  },
  {
   "cell_type": "code",
   "execution_count": 15,
   "metadata": {
    "pycharm": {
     "name": "#%%\n"
    }
   },
   "outputs": [],
   "source": [
    "# Descale\n",
    "predictions = scalerY.inverse_transform(predictions)\n",
    "testY = scalerY.inverse_transform(testY)\n",
    "# Mean absolute error\n",
    "mae = mean_absolute_error(testY, predictions)\n",
    "\n"
   ]
  },
  {
   "cell_type": "code",
   "execution_count": 16,
   "metadata": {
    "pycharm": {
     "name": "#%%\n"
    }
   },
   "outputs": [
    {
     "data": {
      "image/png": "[encoded data removed]",
      "text/plain": [
       "<Figure size 1080x432 with 1 Axes>"
      ]
     },
     "metadata": {
      "needs_background": "light"
     },
     "output_type": "display_data"
    }
   ],
   "source": [
    "# Plot prediction vs actual values:\n",
    "plt.figure(figsize=(15,6))\n",
    "plt.plot(predictions, label=\"Test set predictions\" )\n",
    "plt.plot(testY, label=\"Real data\")\n",
    "plt.legend()\n",
    "plt.ylabel('Price Index')\n",
    "plt.xlabel('time step' )\n",
    "plt.title (\"Adj close Price prediction- with MAE \")\n",
    "plt.show()"
   ]
  },
  {
   "cell_type": "code",
   "execution_count": 16,
   "metadata": {
    "pycharm": {
     "name": "#%%\n"
    }
   },
   "outputs": [],
   "source": []
  }
 ],
 "metadata": {
  "kernelspec": {
   "display_name": "Python 3 (ipykernel)",
   "language": "python",
   "name": "python3"
  },
  "language_info": {
   "codemirror_mode": {
    "name": "ipython",
    "version": 3
   },
   "file_extension": ".py",
   "mimetype": "text/x-python",
   "name": "python",
   "nbconvert_exporter": "python",
   "pygments_lexer": "ipython3",
   "version": "3.9.7"
  }
 },
 "nbformat": 4,
 "nbformat_minor": 1
}
